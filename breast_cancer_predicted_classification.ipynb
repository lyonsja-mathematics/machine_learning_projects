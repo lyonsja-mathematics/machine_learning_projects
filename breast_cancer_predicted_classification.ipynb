{
 "cells": [
  {
   "cell_type": "code",
   "execution_count": 8,
   "id": "ef450d5b-b2b2-44b8-971e-fc245076ba72",
   "metadata": {},
   "outputs": [],
   "source": [
    "import warnings\n",
    "warnings.filterwarnings('ignore')\n",
    "import os\n",
    "import pandas as pd\n",
    "from sklearn.model_selection import train_test_split\n",
    "from sklearn.linear_model import LogisticRegression\n",
    "from sklearn.metrics import confusion_matrix"
   ]
  },
  {
   "cell_type": "code",
   "execution_count": 2,
   "id": "8e66f445-6abc-422e-9b7f-1d14841a157e",
   "metadata": {},
   "outputs": [],
   "source": [
    "os.chdir('C:/Users/C10381149/OneDrive - Technological University Dublin/Documents/Python/Datasets/')"
   ]
  },
  {
   "cell_type": "code",
   "execution_count": 6,
   "id": "498889a2-8202-4f41-bb63-041d793af42b",
   "metadata": {},
   "outputs": [
    {
     "name": "stdout",
     "output_type": "stream",
     "text": [
      "Unscaled test score: 0.937\n"
     ]
    }
   ],
   "source": [
    "cancer=pd.read_csv('breast_cancer.csv')\n",
    "X = cancer[cancer.columns[cancer.columns != 'target']]\n",
    "y = cancer['target']\n",
    "X_train, X_test, y_train, y_test = train_test_split(X, y, random_state=0)\n",
    "logreg = LogisticRegression()\n",
    "logreg.fit(X_train, y_train)\n",
    "print(\"Unscaled test score: {:.3f}\".format(logreg.score(X_test, y_test)))"
   ]
  },
  {
   "cell_type": "code",
   "execution_count": 10,
   "id": "8957bc9f-e6cb-4c9f-bf78-40f935ea4764",
   "metadata": {},
   "outputs": [
    {
     "name": "stdout",
     "output_type": "stream",
     "text": [
      "Scaled (standard) test score: 0.986\n"
     ]
    }
   ],
   "source": [
    "standard_scaler=StandardScaler()\n",
    "standard_scaler.fit(X)\n",
    "X_scaled=standard_scaler.transform(X)\n",
    "X_scaled_train, X_scaled_test, y_train, y_test = train_test_split(X_scaled, y, \n",
    "                                                                  stratify=y, \n",
    "                                                                  random_state=0)\n",
    "logreg2=LogisticRegression()\n",
    "logreg2.fit(X_scaled_train, y_train)\n",
    "print(\"Scaled (standard) test score: {:.3f}\".format(logreg2.score(X_scaled_test, y_test)))"
   ]
  },
  {
   "cell_type": "code",
   "execution_count": 14,
   "id": "36c478d4-f880-407f-a431-59f7b0e7434f",
   "metadata": {},
   "outputs": [
    {
     "data": {
      "text/html": [
       "<div>\n",
       "<style scoped>\n",
       "    .dataframe tbody tr th:only-of-type {\n",
       "        vertical-align: middle;\n",
       "    }\n",
       "\n",
       "    .dataframe tbody tr th {\n",
       "        vertical-align: top;\n",
       "    }\n",
       "\n",
       "    .dataframe thead th {\n",
       "        text-align: right;\n",
       "    }\n",
       "</style>\n",
       "<table border=\"1\" class=\"dataframe\">\n",
       "  <thead>\n",
       "    <tr style=\"text-align: right;\">\n",
       "      <th></th>\n",
       "      <th>Benign</th>\n",
       "      <th>Malign</th>\n",
       "    </tr>\n",
       "  </thead>\n",
       "  <tbody>\n",
       "    <tr>\n",
       "      <th>Benign</th>\n",
       "      <td>357</td>\n",
       "      <td>5</td>\n",
       "    </tr>\n",
       "    <tr>\n",
       "      <th>Malign</th>\n",
       "      <td>0</td>\n",
       "      <td>207</td>\n",
       "    </tr>\n",
       "  </tbody>\n",
       "</table>\n",
       "</div>"
      ],
      "text/plain": [
       "        Benign  Malign\n",
       "Benign     357       5\n",
       "Malign       0     207"
      ]
     },
     "execution_count": 14,
     "metadata": {},
     "output_type": "execute_result"
    }
   ],
   "source": [
    "y_pred = logreg2.predict(X_scaled)\n",
    "pd.DataFrame(confusion_matrix(y_pred, y, labels=['benign','malign']), \n",
    "             index=['Benign','Malign'],columns=['Benign','Malign'])"
   ]
  }
 ],
 "metadata": {
  "kernelspec": {
   "display_name": "Python 3 (ipykernel)",
   "language": "python",
   "name": "python3"
  },
  "language_info": {
   "codemirror_mode": {
    "name": "ipython",
    "version": 3
   },
   "file_extension": ".py",
   "mimetype": "text/x-python",
   "name": "python",
   "nbconvert_exporter": "python",
   "pygments_lexer": "ipython3",
   "version": "3.11.10"
  }
 },
 "nbformat": 4,
 "nbformat_minor": 5
}

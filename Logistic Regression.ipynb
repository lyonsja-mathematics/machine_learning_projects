{
 "cells": [
  {
   "cell_type": "code",
   "execution_count": 8,
   "id": "ef450d5b-b2b2-44b8-971e-fc245076ba72",
   "metadata": {},
   "outputs": [],
   "source": [
    "import warnings\n",
    "warnings.filterwarnings('ignore')\n",
    "import os\n",
    "import pandas as pd"
   ]
  },
  {
   "cell_type": "code",
   "execution_count": 9,
   "id": "8e66f445-6abc-422e-9b7f-1d14841a157e",
   "metadata": {},
   "outputs": [],
   "source": [
    "os.chdir('C:/Users/C10381149/OneDrive - Technological University Dublin/Documents/Python/Datasets/')"
   ]
  },
  {
   "cell_type": "code",
   "execution_count": 10,
   "id": "498889a2-8202-4f41-bb63-041d793af42b",
   "metadata": {},
   "outputs": [
    {
     "data": {
      "text/plain": [
       "0.937"
      ]
     },
     "execution_count": 10,
     "metadata": {},
     "output_type": "execute_result"
    }
   ],
   "source": [
    "cancer=pd.read_csv('breast_cancer.csv')\n",
    "\n",
    "X = cancer[cancer.columns[cancer.columns != 'target']]\n",
    "y = cancer['target']\n",
    "\n",
    "from sklearn.model_selection import train_test_split\n",
    "\n",
    "X_train, X_test, y_train, y_test = train_test_split(X, y, random_state=0)\n",
    "\n",
    "from sklearn.linear_model import LogisticRegression\n",
    "\n",
    "logreg = LogisticRegression()\n",
    "logreg.fit(X_train, y_train)\n",
    "\n",
    "round(logreg.score(X_test, y_test),3)"
   ]
  },
  {
   "cell_type": "code",
   "execution_count": 11,
   "id": "8957bc9f-e6cb-4c9f-bf78-40f935ea4764",
   "metadata": {},
   "outputs": [
    {
     "data": {
      "text/plain": [
       "0.965"
      ]
     },
     "execution_count": 11,
     "metadata": {},
     "output_type": "execute_result"
    }
   ],
   "source": [
    "from sklearn.preprocessing import MinMaxScaler\n",
    "\n",
    "scaler=MinMaxScaler()\n",
    "scaler.fit(X)\n",
    "X_scaled=scaler.transform(X)\n",
    "\n",
    "X_scaled_train, X_scaled_test, y_train, y_test = train_test_split(X_scaled, y, random_state=0)\n",
    "\n",
    "logreg2=LogisticRegression()\n",
    "logreg2.fit(X_scaled_train, y_train)\n",
    "\n",
    "round(logreg2.score(X_scaled_test, y_test),3)"
   ]
  },
  {
   "cell_type": "code",
   "execution_count": 12,
   "id": "6d2abe78-0844-4d20-9542-b2b27c8d770f",
   "metadata": {},
   "outputs": [
    {
     "data": {
      "text/plain": [
       "'malign'"
      ]
     },
     "execution_count": 12,
     "metadata": {},
     "output_type": "execute_result"
    }
   ],
   "source": [
    "new=pd.DataFrame(X_scaled).sample()\n",
    "logreg2.predict(new)[0]"
   ]
  }
 ],
 "metadata": {
  "kernelspec": {
   "display_name": "Python 3 (ipykernel)",
   "language": "python",
   "name": "python3"
  },
  "language_info": {
   "codemirror_mode": {
    "name": "ipython",
    "version": 3
   },
   "file_extension": ".py",
   "mimetype": "text/x-python",
   "name": "python",
   "nbconvert_exporter": "python",
   "pygments_lexer": "ipython3",
   "version": "3.11.10"
  }
 },
 "nbformat": 4,
 "nbformat_minor": 5
}

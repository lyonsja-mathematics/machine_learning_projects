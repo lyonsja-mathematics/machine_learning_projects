{
 "cells": [
  {
   "cell_type": "code",
   "execution_count": 5,
   "id": "a5a58597-8ee1-4597-8117-34d555dd5f3d",
   "metadata": {},
   "outputs": [
    {
     "data": {
      "text/plain": [
       "0.937"
      ]
     },
     "execution_count": 5,
     "metadata": {},
     "output_type": "execute_result"
    }
   ],
   "source": [
    "import warnings\n",
    "warnings.filterwarnings('ignore')\n",
    "\n",
    "import pandas as pd\n",
    "\n",
    "cancer=pd.read_csv('https://github.com/lyonsja-mathematics/machine_learning_projects/blob/main/breast_cancer.csv?raw=True')\n",
    "\n",
    "X = cancer[cancer.columns[cancer.columns != 'target']]\n",
    "y = cancer['target']\n",
    "\n",
    "from sklearn.model_selection import train_test_split\n",
    "\n",
    "X_train, X_test, y_train, y_test = train_test_split(X, y, random_state=0)\n",
    "\n",
    "from sklearn.linear_model import LogisticRegression\n",
    "\n",
    "logreg = LogisticRegression()\n",
    "logreg.fit(X_train, y_train)\n",
    "\n",
    "round(logreg.score(X_test, y_test),3)"
   ]
  },
  {
   "cell_type": "code",
   "execution_count": 6,
   "id": "8957bc9f-e6cb-4c9f-bf78-40f935ea4764",
   "metadata": {},
   "outputs": [
    {
     "data": {
      "text/plain": [
       "0.965"
      ]
     },
     "execution_count": 6,
     "metadata": {},
     "output_type": "execute_result"
    }
   ],
   "source": [
    "from sklearn.preprocessing import MinMaxScaler\n",
    "\n",
    "scaler=MinMaxScaler()\n",
    "scaler.fit(X)\n",
    "X_scaled=scaler.transform(X)\n",
    "\n",
    "X_scaled_train, X_scaled_test, y_train, y_test = train_test_split(X_scaled, y, random_state=0)\n",
    "\n",
    "logreg2=LogisticRegression()\n",
    "logreg2.fit(X_scaled_train, y_train)\n",
    "\n",
    "round(logreg2.score(X_scaled_test, y_test),3)"
   ]
  },
  {
   "cell_type": "code",
   "execution_count": 7,
   "id": "6d2abe78-0844-4d20-9542-b2b27c8d770f",
   "metadata": {},
   "outputs": [
    {
     "data": {
      "text/plain": [
       "'malign'"
      ]
     },
     "execution_count": 7,
     "metadata": {},
     "output_type": "execute_result"
    }
   ],
   "source": [
    "new=pd.DataFrame(X_scaled).sample()\n",
    "logreg2.predict(new)[0]"
   ]
  }
 ],
 "metadata": {
  "kernelspec": {
   "display_name": "Python 3 (ipykernel)",
   "language": "python",
   "name": "python3"
  },
  "language_info": {
   "codemirror_mode": {
    "name": "ipython",
    "version": 3
   },
   "file_extension": ".py",
   "mimetype": "text/x-python",
   "name": "python",
   "nbconvert_exporter": "python",
   "pygments_lexer": "ipython3",
   "version": "3.11.10"
  }
 },
 "nbformat": 4,
 "nbformat_minor": 5
}
